{
 "cells": [
  {
   "cell_type": "code",
   "execution_count": 1,
   "metadata": {},
   "outputs": [
    {
     "name": "stderr",
     "output_type": "stream",
     "text": [
      "[*********************100%***********************]  1 of 1 completed"
     ]
    },
    {
     "name": "stdout",
     "output_type": "stream",
     "text": [
      "列名結構：\n",
      "MultiIndex([('Adj Close', '^TWII'),\n",
      "            (    'Close', '^TWII'),\n",
      "            (     'High', '^TWII'),\n",
      "            (      'Low', '^TWII'),\n",
      "            (     'Open', '^TWII'),\n",
      "            (   'Volume', '^TWII')],\n",
      "           names=['Price', 'Ticker'])\n",
      "      年  月    Adj Close    Return       年月\n",
      "0  2005  4  5818.043457 -3.494583  2005/04\n",
      "1  2005  5  6011.532227  3.325667  2005/05\n",
      "2  2005  6  6241.911133  3.832283  2005/06\n",
      "3  2005  7  6311.950684  1.122085  2005/07\n",
      "4  2005  8  6033.442383 -4.412397  2005/08\n"
     ]
    },
    {
     "name": "stderr",
     "output_type": "stream",
     "text": [
      "\n"
     ]
    }
   ],
   "source": [
    "import yfinance as yf\n",
    "import pandas as pd\n",
    "from datetime import datetime\n",
    "import numpy as np\n",
    "# 設定具體的開始和結束日期\n",
    "start_date = '2005-04-01'\n",
    "end_date = '2024-09-30'\n",
    "\n",
    "# 下載台灣加權指數資料\n",
    "twii = yf.download('^TWII', start=start_date, end=end_date)\n",
    "\n",
    "# 先檢查列名結構\n",
    "print(\"列名結構：\")\n",
    "print(twii.columns)\n",
    "\n",
    "# 從索引中提取年份和月份\n",
    "twii['年'] = twii.index.year\n",
    "twii['月'] = twii.index.month\n",
    "\n",
    "# 計算日報酬率\n",
    "twii['Return'] = twii['Adj Close'].pct_change()\n",
    "twii['Return'] = twii['Return'].fillna(0)\n",
    "# 計算月度資料 - 使用正確的多層索引列名\n",
    "monthly_twii = twii.groupby(['年', '月']).agg({\n",
    "    ('Adj Close', '^TWII'): 'last',\n",
    "    ('Return', ''): lambda x: (1 + x).prod() - 1\n",
    "}).reset_index()\n",
    "\n",
    "# 轉換為百分比格式\n",
    "monthly_twii[('Return', '')] = monthly_twii[('Return', '')] * 100\n",
    "\n",
    "# 重命名欄位\n",
    "monthly_twii = monthly_twii.rename(columns={\n",
    "    ('Adj Close', '^TWII'): '月底收盤價',\n",
    "    ('Return', ''): '月報酬率(%)'\n",
    "})\n",
    "# 創建年月欄位，格式為 YYYY/MM\n",
    "monthly_twii['年月'] = monthly_twii['年'].astype(str) + '/' + monthly_twii['月'].astype(str).str.zfill(2)\n",
    "# 修正多層索引列名為單層索引\n",
    "monthly_twii.columns = [col[0] if isinstance(col, tuple) else col for col in monthly_twii.columns]\n",
    "\n",
    "\n",
    "# 顯示結果\n",
    "print(monthly_twii.head())"
   ]
  },
  {
   "cell_type": "code",
   "execution_count": 2,
   "metadata": {},
   "outputs": [
    {
     "name": "stderr",
     "output_type": "stream",
     "text": [
      "[*********************100%***********************]  1 of 1 completed"
     ]
    },
    {
     "name": "stdout",
     "output_type": "stream",
     "text": [
      "      年  月  Adj Close       年月\n",
      "0  2005  4   0.002364  2005/04\n",
      "1  2005  5   0.002402  2005/05\n",
      "2  2005  6   0.002550  2005/06\n",
      "3  2005  7   0.002777  2005/07\n",
      "4  2005  8   0.002858  2005/08\n"
     ]
    },
    {
     "name": "stderr",
     "output_type": "stream",
     "text": [
      "\n"
     ]
    }
   ],
   "source": [
    "# 下載美國一個月期國庫券利率數據（通常用作無風險利率）\n",
    "rf = yf.download('^IRX', start=start_date, end=end_date)\n",
    "\n",
    "# 從索引中提取年份和月份\n",
    "rf['年'] = rf.index.year\n",
    "rf['月'] = rf.index.month\n",
    "\n",
    "# 計算月度資料\n",
    "monthly_rf = rf.groupby(['年', '月']).agg({\n",
    "    ('Adj Close', '^IRX'): 'last'  # 使用月底利率\n",
    "}).reset_index()\n",
    "\n",
    "# 將年利率轉換為月利率 (除以12) 並轉換為小數\n",
    "monthly_rf[('Adj Close', '^IRX')] = monthly_rf[('Adj Close', '^IRX')] / (12 * 100)\n",
    "\n",
    "# 重命名欄位\n",
    "monthly_rf = monthly_rf.rename(columns={\n",
    "    ('Adj Close', '^IRX'): '無風險月報酬率'\n",
    "})\n",
    "# 創建年月欄位，格式為 YYYY/MM\n",
    "monthly_rf['年月'] = monthly_rf['年'].astype(str) + '/' + monthly_rf['月'].astype(str).str.zfill(2)\n",
    "# 修正多層索引列名為單層索引\n",
    "monthly_rf.columns = [col[0] if isinstance(col, tuple) else col for col in monthly_rf.columns]\n",
    "\n",
    "# 顯示結果\n",
    "print(monthly_rf.head())\n",
    "\n"
   ]
  }
 ],
 "metadata": {
  "kernelspec": {
   "display_name": "Python 3",
   "language": "python",
   "name": "python3"
  },
  "language_info": {
   "codemirror_mode": {
    "name": "ipython",
    "version": 3
   },
   "file_extension": ".py",
   "mimetype": "text/x-python",
   "name": "python",
   "nbconvert_exporter": "python",
   "pygments_lexer": "ipython3",
   "version": "3.12.6"
  }
 },
 "nbformat": 4,
 "nbformat_minor": 2
}
