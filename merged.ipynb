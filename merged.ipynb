{
 "cells": [
  {
   "cell_type": "code",
   "execution_count": 6,
   "metadata": {},
   "outputs": [
    {
     "name": "stdout",
     "output_type": "stream",
     "text": [
      "df1的列名： ['代號', '名稱', '年/月', '年月', '季別', '合併(Y/N)', '單季(Q)/單半年(H)', '月份', '幣別', 'ROA(C)稅前息前折舊前', 'ROA(A)稅後息前', 'ROA(B)稅後息前折舊前', 'ROA－綜合損益', 'ROE(A)－稅後', '稅前息前折舊前淨利率', 'ROE(B)－常續利益', 'ROE－綜合損益', '營業毛利率', '已實現銷貨毛利率', '營業利益率', '稅前淨利率', '稅後淨利率', '業外收支/營收', '常續利益率－稅後', '貝里比率', '營業資產報酬率', '員工人數', '營業費用率', '用人費用率', '研究發展費用率', '呆帳費用率', '現金流量比率', '有息負債利率', '稅率(A)', '稅率(B)', '每股淨值(B)', '每股淨值(A)', '每股淨值(C)', '每股淨值(F)－TSE公告數', '常續性EPS', '每股現金流量', '每股營業額', '每股營業利益', '每股稅前淨利', '每股綜合損益', '季底每股稅前淨利', '季底每股稅後淨利', '營收成長率', '營業毛利成長率', '已實現銷貨毛利成長率', '營業利益成長率', '稅前淨利成長率', '稅後淨利成長率', '經常淨利成長率', '常續淨利成長率', '總資產成長率', '淨值成長率', '折舊性FA成長率', '總資產報酬成長率', '營收變動率', '營業利益變動率', '淨利變動率（單季）', '稅前盈餘變動率', '流動比率', '速動比率', '利息支出率', '利息支出率(B)', '總負債/總淨值', '負債比率', '淨值/資產', '長期資金適合率(A)', '淨負債', '借款依存度', '利息保障倍數', '營業利益 /實收資本比', '稅前純益 /實收資本', '存貨及應收帳款/淨值', '應收帳款週轉次數', '總資產週轉次數', '平均收帳天數', '存貨週轉率（次）', '平均售貨天數', '固定資產週轉次數', '淨值週轉率（次）', '應付帳款付現天數', '淨營業週期（日）', '自由現金流量(D)', '季底應收帳款/營收TSE', '季底存貨/營收TSE', '每人營收', '每人營業利益', '季底普通股市值', '當季季底P/E', '當季季底P/B', '月']\n",
      "df2的列名： ['代號', '名稱', '年月', '開盤價(元)_月', '最高價(元)_月', '最低價(元)_月', '收盤價(元)_月', '成交量(百萬股)_月', '成交值(百萬元)_月', '報酬率％_月', '週轉率％_月', '流通在外股數(千股)', '市值(百萬元)', '最後揭示買價', '最後揭示賣價', '報酬率-Ln_月', '市值比重％', '成交值比重％', '成交筆數(千筆)', '本益比-TSE', '本益比-TEJ', '股價淨值比-TSE', '股價淨值比-TEJ', '股價營收比-TEJ', '股利殖利率-TSE', '現金股利率', '股價漲跌(元)', '高低價差%', '市場別', '該月結束日']\n",
      "原始資料筆數：\n",
      "df1: 15066 筆\n",
      "df2: 16408 筆\n",
      "\n",
      "合併後資料筆數：\n",
      "inner merge (交集): 13485 筆\n",
      "\n",
      "資料已成功輸出到Excel檔案\n"
     ]
    }
   ],
   "source": [
    "# 讀取 Excel 檔案\n",
    "import pandas as pd\n",
    "\n",
    "df1= pd.read_excel(\"C:/Users/user/Desktop/20年月度資料.xlsx\")\n",
    "\n",
    "df2 = pd.read_excel(\"C:/Users/user/Desktop/fama20年股價(月).xlsx\")\n",
    "\n",
    "# 檢查兩個 DataFrame 的列名\n",
    "print(\"df1的列名：\", df1.columns.tolist())\n",
    "print(\"df2的列名：\", df2.columns.tolist())\n",
    "\n",
    "# 方法二：使用 inner merge（只保留共同資料）\n",
    "df_merged_inner = pd.merge(df2, \n",
    "                          df1, \n",
    "                          on=['代號', '年月'], \n",
    "                          how='inner',\n",
    "                          suffixes=('', '_right'))\n",
    "\n",
    "# 顯示合併結果的資訊\n",
    "print(f\"原始資料筆數：\")\n",
    "print(f\"df1: {len(df1)} 筆\")\n",
    "print(f\"df2: {len(df2)} 筆\")\n",
    "print(f\"\\n合併後資料筆數：\")\n",
    "print(f\"inner merge (交集): {len(df_merged_inner)} 筆\")\n",
    "\n",
    "df_merged_inner.to_excel(\"C:/Users/user/Desktop/fama20年總表.xlsx\", index=False)\n",
    "print(\"\\n資料已成功輸出到Excel檔案\")"
   ]
  },
  {
   "cell_type": "code",
   "execution_count": null,
   "metadata": {},
   "outputs": [],
   "source": []
  },
  {
   "cell_type": "markdown",
   "metadata": {},
   "source": []
  }
 ],
 "metadata": {
  "kernelspec": {
   "display_name": "Python 3",
   "language": "python",
   "name": "python3"
  },
  "language_info": {
   "codemirror_mode": {
    "name": "ipython",
    "version": 3
   },
   "file_extension": ".py",
   "mimetype": "text/x-python",
   "name": "python",
   "nbconvert_exporter": "python",
   "pygments_lexer": "ipython3",
   "version": "3.12.6"
  }
 },
 "nbformat": 4,
 "nbformat_minor": 2
}
